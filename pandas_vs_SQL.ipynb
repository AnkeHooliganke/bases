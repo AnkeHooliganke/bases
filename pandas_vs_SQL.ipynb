{
  "nbformat": 4,
  "nbformat_minor": 0,
  "metadata": {
    "kernelspec": {
      "display_name": "develop",
      "language": "python",
      "name": "develop"
    },
    "language_info": {
      "codemirror_mode": {
        "name": "ipython",
        "version": 3
      },
      "file_extension": ".py",
      "mimetype": "text/x-python",
      "name": "python",
      "nbconvert_exporter": "python",
      "pygments_lexer": "ipython3",
      "version": "3.9.6"
    },
    "colab": {
      "name": "pandas_vs_SQL_TODO.ipynb",
      "provenance": [],
      "include_colab_link": true
    }
  },
  "cells": [
    {
      "cell_type": "markdown",
      "metadata": {
        "id": "view-in-github",
        "colab_type": "text"
      },
      "source": [
        "<a href=\"https://colab.research.google.com/github/AnkeHooliganke/bases/blob/main/pandas_vs_SQL.ipynb\" target=\"_parent\"><img src=\"https://colab.research.google.com/assets/colab-badge.svg\" alt=\"Open In Colab\"/></a>"
      ]
    },
    {
      "cell_type": "markdown",
      "metadata": {
        "id": "n668uYi7Knsb"
      },
      "source": [
        "# Imports"
      ]
    },
    {
      "cell_type": "code",
      "metadata": {
        "id": "Jfj442CFKnsf"
      },
      "source": [
        "import pandas as pd"
      ],
      "execution_count": null,
      "outputs": []
    },
    {
      "cell_type": "markdown",
      "metadata": {
        "id": "46mSPRcQKnsg"
      },
      "source": [
        "# Reading data into dataframe tables"
      ]
    },
    {
      "cell_type": "code",
      "metadata": {
        "colab": {
          "base_uri": "https://localhost:8080/",
          "height": 204
        },
        "id": "vr3ae9qYKnsh",
        "outputId": "4139d4c8-d4cf-4554-b5ca-6f643da26b1a"
      },
      "source": [
        "employee = pd.read_csv(\"queries_data/employee.csv\")\n",
        "employee.head()"
      ],
      "execution_count": null,
      "outputs": [
        {
          "output_type": "execute_result",
          "data": {
            "text/html": [
              "<div>\n",
              "<style scoped>\n",
              "    .dataframe tbody tr th:only-of-type {\n",
              "        vertical-align: middle;\n",
              "    }\n",
              "\n",
              "    .dataframe tbody tr th {\n",
              "        vertical-align: top;\n",
              "    }\n",
              "\n",
              "    .dataframe thead th {\n",
              "        text-align: right;\n",
              "    }\n",
              "</style>\n",
              "<table border=\"1\" class=\"dataframe\">\n",
              "  <thead>\n",
              "    <tr style=\"text-align: right;\">\n",
              "      <th></th>\n",
              "      <th>ssn</th>\n",
              "      <th>fname</th>\n",
              "      <th>lname</th>\n",
              "      <th>sex</th>\n",
              "      <th>salary</th>\n",
              "      <th>super_ssn</th>\n",
              "      <th>dno</th>\n",
              "    </tr>\n",
              "  </thead>\n",
              "  <tbody>\n",
              "    <tr>\n",
              "      <th>0</th>\n",
              "      <td>1</td>\n",
              "      <td>peter</td>\n",
              "      <td>skachovsky</td>\n",
              "      <td>m</td>\n",
              "      <td>1000</td>\n",
              "      <td>2.0</td>\n",
              "      <td>10</td>\n",
              "    </tr>\n",
              "    <tr>\n",
              "      <th>1</th>\n",
              "      <td>2</td>\n",
              "      <td>ronald</td>\n",
              "      <td>dehaan</td>\n",
              "      <td>m</td>\n",
              "      <td>2000</td>\n",
              "      <td>4.0</td>\n",
              "      <td>10</td>\n",
              "    </tr>\n",
              "    <tr>\n",
              "      <th>2</th>\n",
              "      <td>3</td>\n",
              "      <td>alina</td>\n",
              "      <td>petrova</td>\n",
              "      <td>f</td>\n",
              "      <td>1500</td>\n",
              "      <td>2.0</td>\n",
              "      <td>10</td>\n",
              "    </tr>\n",
              "    <tr>\n",
              "      <th>3</th>\n",
              "      <td>4</td>\n",
              "      <td>sergey</td>\n",
              "      <td>paramonov</td>\n",
              "      <td>m</td>\n",
              "      <td>4000</td>\n",
              "      <td>NaN</td>\n",
              "      <td>20</td>\n",
              "    </tr>\n",
              "    <tr>\n",
              "      <th>4</th>\n",
              "      <td>5</td>\n",
              "      <td>andra</td>\n",
              "      <td>busoniu</td>\n",
              "      <td>f</td>\n",
              "      <td>2500</td>\n",
              "      <td>NaN</td>\n",
              "      <td>30</td>\n",
              "    </tr>\n",
              "  </tbody>\n",
              "</table>\n",
              "</div>"
            ],
            "text/plain": [
              "   ssn   fname       lname sex  salary  super_ssn  dno\n",
              "0    1   peter  skachovsky   m    1000        2.0   10\n",
              "1    2  ronald      dehaan   m    2000        4.0   10\n",
              "2    3   alina     petrova   f    1500        2.0   10\n",
              "3    4  sergey   paramonov   m    4000        NaN   20\n",
              "4    5   andra     busoniu   f    2500        NaN   30"
            ]
          },
          "metadata": {},
          "execution_count": 4
        }
      ]
    },
    {
      "cell_type": "code",
      "metadata": {
        "colab": {
          "base_uri": "https://localhost:8080/",
          "height": 204
        },
        "id": "TOD6TU3vKnsi",
        "outputId": "4d8133cc-707c-4300-e49e-6611cd65b76c"
      },
      "source": [
        "works_on = pd.read_csv(\"queries_data/works_on.csv\")\n",
        "works_on.head()"
      ],
      "execution_count": null,
      "outputs": [
        {
          "output_type": "execute_result",
          "data": {
            "text/html": [
              "<div>\n",
              "<style scoped>\n",
              "    .dataframe tbody tr th:only-of-type {\n",
              "        vertical-align: middle;\n",
              "    }\n",
              "\n",
              "    .dataframe tbody tr th {\n",
              "        vertical-align: top;\n",
              "    }\n",
              "\n",
              "    .dataframe thead th {\n",
              "        text-align: right;\n",
              "    }\n",
              "</style>\n",
              "<table border=\"1\" class=\"dataframe\">\n",
              "  <thead>\n",
              "    <tr style=\"text-align: right;\">\n",
              "      <th></th>\n",
              "      <th>essn</th>\n",
              "      <th>pno</th>\n",
              "      <th>hours</th>\n",
              "    </tr>\n",
              "  </thead>\n",
              "  <tbody>\n",
              "    <tr>\n",
              "      <th>0</th>\n",
              "      <td>1</td>\n",
              "      <td>1</td>\n",
              "      <td>10</td>\n",
              "    </tr>\n",
              "    <tr>\n",
              "      <th>1</th>\n",
              "      <td>1</td>\n",
              "      <td>2</td>\n",
              "      <td>20</td>\n",
              "    </tr>\n",
              "    <tr>\n",
              "      <th>2</th>\n",
              "      <td>1</td>\n",
              "      <td>3</td>\n",
              "      <td>5</td>\n",
              "    </tr>\n",
              "    <tr>\n",
              "      <th>3</th>\n",
              "      <td>1</td>\n",
              "      <td>4</td>\n",
              "      <td>10</td>\n",
              "    </tr>\n",
              "    <tr>\n",
              "      <th>4</th>\n",
              "      <td>1</td>\n",
              "      <td>5</td>\n",
              "      <td>3</td>\n",
              "    </tr>\n",
              "  </tbody>\n",
              "</table>\n",
              "</div>"
            ],
            "text/plain": [
              "   essn  pno  hours\n",
              "0     1    1     10\n",
              "1     1    2     20\n",
              "2     1    3      5\n",
              "3     1    4     10\n",
              "4     1    5      3"
            ]
          },
          "metadata": {},
          "execution_count": 5
        }
      ]
    },
    {
      "cell_type": "code",
      "metadata": {
        "colab": {
          "base_uri": "https://localhost:8080/",
          "height": 204
        },
        "id": "QbZA5dbDKnsi",
        "outputId": "fc1a7430-af5d-4988-9ef4-6a51bbcc2021"
      },
      "source": [
        "project = pd.read_csv(\"queries_data/project.csv\")\n",
        "project.head()"
      ],
      "execution_count": null,
      "outputs": [
        {
          "output_type": "execute_result",
          "data": {
            "text/html": [
              "<div>\n",
              "<style scoped>\n",
              "    .dataframe tbody tr th:only-of-type {\n",
              "        vertical-align: middle;\n",
              "    }\n",
              "\n",
              "    .dataframe tbody tr th {\n",
              "        vertical-align: top;\n",
              "    }\n",
              "\n",
              "    .dataframe thead th {\n",
              "        text-align: right;\n",
              "    }\n",
              "</style>\n",
              "<table border=\"1\" class=\"dataframe\">\n",
              "  <thead>\n",
              "    <tr style=\"text-align: right;\">\n",
              "      <th></th>\n",
              "      <th>pname</th>\n",
              "      <th>pnumber</th>\n",
              "      <th>plocation</th>\n",
              "      <th>dnum</th>\n",
              "    </tr>\n",
              "  </thead>\n",
              "  <tbody>\n",
              "    <tr>\n",
              "      <th>0</th>\n",
              "      <td>A</td>\n",
              "      <td>1</td>\n",
              "      <td>Dresden</td>\n",
              "      <td>10</td>\n",
              "    </tr>\n",
              "    <tr>\n",
              "      <th>1</th>\n",
              "      <td>A</td>\n",
              "      <td>2</td>\n",
              "      <td>Bolzano</td>\n",
              "      <td>10</td>\n",
              "    </tr>\n",
              "    <tr>\n",
              "      <th>2</th>\n",
              "      <td>C</td>\n",
              "      <td>3</td>\n",
              "      <td>Moscow</td>\n",
              "      <td>20</td>\n",
              "    </tr>\n",
              "    <tr>\n",
              "      <th>3</th>\n",
              "      <td>X</td>\n",
              "      <td>4</td>\n",
              "      <td>Vienna</td>\n",
              "      <td>30</td>\n",
              "    </tr>\n",
              "    <tr>\n",
              "      <th>4</th>\n",
              "      <td>Z</td>\n",
              "      <td>5</td>\n",
              "      <td>Houston</td>\n",
              "      <td>20</td>\n",
              "    </tr>\n",
              "  </tbody>\n",
              "</table>\n",
              "</div>"
            ],
            "text/plain": [
              "  pname  pnumber plocation  dnum\n",
              "0     A        1   Dresden    10\n",
              "1     A        2   Bolzano    10\n",
              "2     C        3    Moscow    20\n",
              "3     X        4    Vienna    30\n",
              "4     Z        5   Houston    20"
            ]
          },
          "metadata": {},
          "execution_count": 6
        }
      ]
    },
    {
      "cell_type": "markdown",
      "metadata": {
        "id": "JC-leICiKnsj"
      },
      "source": [
        "# Good old queries but now in pandas!\n",
        "\n",
        "The same problems but in a different paradigm"
      ]
    },
    {
      "cell_type": "markdown",
      "metadata": {
        "id": "Y1zxg7UIKnsj"
      },
      "source": [
        "# Пишем старые добрые запросы, но уже ручками на pandas \n",
        "\n",
        "В общем-то те же запросы, что мы видели на реляционной алгебре, реляционном исчислении и SQL -- но теперь на pandas!"
      ]
    },
    {
      "cell_type": "markdown",
      "metadata": {
        "id": "gNeNIsE-Knsk"
      },
      "source": [
        "## Question 1\n",
        "Question: Retrieve the names of all employees in department 5 who work more than 10 hours per week on the ProductX project!\n",
        "\n",
        "SQL code to guide:\n",
        "``` SQL\n",
        "SELECT Fname, Lname\n",
        "FROM EMPLOYEE, WORKS_ON, PROJECT \n",
        "WHERE Ssn=Essn\n",
        "AND Pno=Pnumber\n",
        "AND Dno=10\n",
        "AND Hours>=10\n",
        "AND Pname=’X’\n",
        "```"
      ]
    },
    {
      "cell_type": "code",
      "metadata": {
        "colab": {
          "base_uri": "https://localhost:8080/",
          "height": 327
        },
        "id": "LMNqUPxpKnsl",
        "outputId": "ba544a01-cd29-4f7c-eaab-5f57bd82a4dd"
      },
      "source": [
        "merged_df = pd.merge(left=employee, right=works_on, left_on='ssn', right_on='essn')\n",
        "merged_df.query(\"dno==5 & pno==1 & hours > 10\")\n",
        "merged_df[['fname', 'lname']]"
      ],
      "execution_count": null,
      "outputs": [
        {
          "output_type": "execute_result",
          "data": {
            "text/html": [
              "<div>\n",
              "<style scoped>\n",
              "    .dataframe tbody tr th:only-of-type {\n",
              "        vertical-align: middle;\n",
              "    }\n",
              "\n",
              "    .dataframe tbody tr th {\n",
              "        vertical-align: top;\n",
              "    }\n",
              "\n",
              "    .dataframe thead th {\n",
              "        text-align: right;\n",
              "    }\n",
              "</style>\n",
              "<table border=\"1\" class=\"dataframe\">\n",
              "  <thead>\n",
              "    <tr style=\"text-align: right;\">\n",
              "      <th></th>\n",
              "      <th>fname</th>\n",
              "      <th>lname</th>\n",
              "    </tr>\n",
              "  </thead>\n",
              "  <tbody>\n",
              "    <tr>\n",
              "      <th>0</th>\n",
              "      <td>peter</td>\n",
              "      <td>skachovsky</td>\n",
              "    </tr>\n",
              "    <tr>\n",
              "      <th>1</th>\n",
              "      <td>peter</td>\n",
              "      <td>skachovsky</td>\n",
              "    </tr>\n",
              "    <tr>\n",
              "      <th>2</th>\n",
              "      <td>peter</td>\n",
              "      <td>skachovsky</td>\n",
              "    </tr>\n",
              "    <tr>\n",
              "      <th>3</th>\n",
              "      <td>peter</td>\n",
              "      <td>skachovsky</td>\n",
              "    </tr>\n",
              "    <tr>\n",
              "      <th>4</th>\n",
              "      <td>peter</td>\n",
              "      <td>skachovsky</td>\n",
              "    </tr>\n",
              "    <tr>\n",
              "      <th>5</th>\n",
              "      <td>ronald</td>\n",
              "      <td>dehaan</td>\n",
              "    </tr>\n",
              "    <tr>\n",
              "      <th>6</th>\n",
              "      <td>ronald</td>\n",
              "      <td>dehaan</td>\n",
              "    </tr>\n",
              "    <tr>\n",
              "      <th>7</th>\n",
              "      <td>alina</td>\n",
              "      <td>petrova</td>\n",
              "    </tr>\n",
              "    <tr>\n",
              "      <th>8</th>\n",
              "      <td>sergey</td>\n",
              "      <td>paramonov</td>\n",
              "    </tr>\n",
              "  </tbody>\n",
              "</table>\n",
              "</div>"
            ],
            "text/plain": [
              "    fname       lname\n",
              "0   peter  skachovsky\n",
              "1   peter  skachovsky\n",
              "2   peter  skachovsky\n",
              "3   peter  skachovsky\n",
              "4   peter  skachovsky\n",
              "5  ronald      dehaan\n",
              "6  ronald      dehaan\n",
              "7   alina     petrova\n",
              "8  sergey   paramonov"
            ]
          },
          "metadata": {},
          "execution_count": 18
        }
      ]
    },
    {
      "cell_type": "markdown",
      "metadata": {
        "id": "xRhv72ESKnsl"
      },
      "source": [
        "## Question 2\n",
        "Question: List the names of all employees who have a\n",
        "dependent with the same first name as themselves\n",
        "\n",
        "SQL code to guide:\n",
        "``` SQL\n",
        "SELECT Fname, Lname\n",
        "FROM EMPLOYEE, DEPENDENT\n",
        "WHERE Ssn=Essn\n",
        "AND Dependent_name=Fname\n",
        "```"
      ]
    },
    {
      "cell_type": "code",
      "metadata": {
        "colab": {
          "base_uri": "https://localhost:8080/",
          "height": 141
        },
        "id": "zHU6DySuKnsm",
        "outputId": "0b9d480d-ec9c-4e08-c259-081b6ad8ccdc"
      },
      "source": [
        "dependent = pd.read_csv(\"queries_data/dependent.csv\")\n",
        "dependent.head()"
      ],
      "execution_count": null,
      "outputs": [
        {
          "output_type": "execute_result",
          "data": {
            "text/html": [
              "<div>\n",
              "<style scoped>\n",
              "    .dataframe tbody tr th:only-of-type {\n",
              "        vertical-align: middle;\n",
              "    }\n",
              "\n",
              "    .dataframe tbody tr th {\n",
              "        vertical-align: top;\n",
              "    }\n",
              "\n",
              "    .dataframe thead th {\n",
              "        text-align: right;\n",
              "    }\n",
              "</style>\n",
              "<table border=\"1\" class=\"dataframe\">\n",
              "  <thead>\n",
              "    <tr style=\"text-align: right;\">\n",
              "      <th></th>\n",
              "      <th>essn</th>\n",
              "      <th>dependent_name</th>\n",
              "      <th>sex</th>\n",
              "    </tr>\n",
              "  </thead>\n",
              "  <tbody>\n",
              "    <tr>\n",
              "      <th>0</th>\n",
              "      <td>1</td>\n",
              "      <td>anna</td>\n",
              "      <td>f</td>\n",
              "    </tr>\n",
              "    <tr>\n",
              "      <th>1</th>\n",
              "      <td>2</td>\n",
              "      <td>ronald</td>\n",
              "      <td>m</td>\n",
              "    </tr>\n",
              "    <tr>\n",
              "      <th>2</th>\n",
              "      <td>3</td>\n",
              "      <td>evgeny</td>\n",
              "      <td>m</td>\n",
              "    </tr>\n",
              "  </tbody>\n",
              "</table>\n",
              "</div>"
            ],
            "text/plain": [
              "   essn dependent_name sex\n",
              "0     1           anna   f\n",
              "1     2         ronald   m\n",
              "2     3         evgeny   m"
            ]
          },
          "metadata": {},
          "execution_count": 22
        }
      ]
    },
    {
      "cell_type": "code",
      "metadata": {
        "colab": {
          "base_uri": "https://localhost:8080/",
          "height": 80
        },
        "id": "bBTVWms_Knsm",
        "outputId": "41d94510-8e51-4d15-e83b-97a89be2dbdf"
      },
      "source": [
        "emp_with_dependents = pd.merge(left=employee, right=dependent, left_on='ssn', right_on='essn', how='right')\n",
        "emp_with_dependents.query(\"fname == dependent_name\")"
      ],
      "execution_count": null,
      "outputs": [
        {
          "output_type": "execute_result",
          "data": {
            "text/html": [
              "<div>\n",
              "<style scoped>\n",
              "    .dataframe tbody tr th:only-of-type {\n",
              "        vertical-align: middle;\n",
              "    }\n",
              "\n",
              "    .dataframe tbody tr th {\n",
              "        vertical-align: top;\n",
              "    }\n",
              "\n",
              "    .dataframe thead th {\n",
              "        text-align: right;\n",
              "    }\n",
              "</style>\n",
              "<table border=\"1\" class=\"dataframe\">\n",
              "  <thead>\n",
              "    <tr style=\"text-align: right;\">\n",
              "      <th></th>\n",
              "      <th>ssn</th>\n",
              "      <th>fname</th>\n",
              "      <th>lname</th>\n",
              "      <th>sex_x</th>\n",
              "      <th>salary</th>\n",
              "      <th>super_ssn</th>\n",
              "      <th>dno</th>\n",
              "      <th>essn</th>\n",
              "      <th>dependent_name</th>\n",
              "      <th>sex_y</th>\n",
              "    </tr>\n",
              "  </thead>\n",
              "  <tbody>\n",
              "    <tr>\n",
              "      <th>1</th>\n",
              "      <td>2</td>\n",
              "      <td>ronald</td>\n",
              "      <td>dehaan</td>\n",
              "      <td>m</td>\n",
              "      <td>2000</td>\n",
              "      <td>4.0</td>\n",
              "      <td>10</td>\n",
              "      <td>2</td>\n",
              "      <td>ronald</td>\n",
              "      <td>m</td>\n",
              "    </tr>\n",
              "  </tbody>\n",
              "</table>\n",
              "</div>"
            ],
            "text/plain": [
              "   ssn   fname   lname sex_x  salary  super_ssn  dno  essn dependent_name sex_y\n",
              "1    2  ronald  dehaan     m    2000        4.0   10     2         ronald     m"
            ]
          },
          "metadata": {},
          "execution_count": 24
        }
      ]
    },
    {
      "cell_type": "markdown",
      "metadata": {
        "id": "xwiTNf4EKnsm"
      },
      "source": [
        "## Question 3\n",
        "Question: Find the names of all employees who are directly\n",
        "supervised by ronald dehaan\n",
        "\n",
        "\n",
        "SQL code to guide:\n",
        "``` SQL\n",
        "SELECT E.Fname, E.Lname\n",
        "FROM EMPLOYEE E, EMPLOYEE S\n",
        "WHERE E.Super_ssn=S.Ssn\n",
        "AND S.Fname=’ronald’\n",
        "AND S.Lname=’dehaan’ \n",
        "```"
      ]
    },
    {
      "cell_type": "code",
      "metadata": {
        "colab": {
          "base_uri": "https://localhost:8080/",
          "height": 111
        },
        "id": "8Q_GsHcNKnsn",
        "outputId": "55767587-91e1-4fb9-ac54-eeeb85485a25"
      },
      "source": [
        "emp_with_ron = pd.merge(left=employee, right=employee.query(\"fname == 'ronald' and lname == 'dehaan'\"), left_on='super_ssn', right_on='ssn')\n",
        "emp_with_ron"
      ],
      "execution_count": null,
      "outputs": [
        {
          "output_type": "execute_result",
          "data": {
            "text/html": [
              "<div>\n",
              "<style scoped>\n",
              "    .dataframe tbody tr th:only-of-type {\n",
              "        vertical-align: middle;\n",
              "    }\n",
              "\n",
              "    .dataframe tbody tr th {\n",
              "        vertical-align: top;\n",
              "    }\n",
              "\n",
              "    .dataframe thead th {\n",
              "        text-align: right;\n",
              "    }\n",
              "</style>\n",
              "<table border=\"1\" class=\"dataframe\">\n",
              "  <thead>\n",
              "    <tr style=\"text-align: right;\">\n",
              "      <th></th>\n",
              "      <th>ssn_x</th>\n",
              "      <th>fname_x</th>\n",
              "      <th>lname_x</th>\n",
              "      <th>sex_x</th>\n",
              "      <th>salary_x</th>\n",
              "      <th>super_ssn_x</th>\n",
              "      <th>dno_x</th>\n",
              "      <th>ssn_y</th>\n",
              "      <th>fname_y</th>\n",
              "      <th>lname_y</th>\n",
              "      <th>sex_y</th>\n",
              "      <th>salary_y</th>\n",
              "      <th>super_ssn_y</th>\n",
              "      <th>dno_y</th>\n",
              "    </tr>\n",
              "  </thead>\n",
              "  <tbody>\n",
              "    <tr>\n",
              "      <th>0</th>\n",
              "      <td>1</td>\n",
              "      <td>peter</td>\n",
              "      <td>skachovsky</td>\n",
              "      <td>m</td>\n",
              "      <td>1000</td>\n",
              "      <td>2.0</td>\n",
              "      <td>10</td>\n",
              "      <td>2</td>\n",
              "      <td>ronald</td>\n",
              "      <td>dehaan</td>\n",
              "      <td>m</td>\n",
              "      <td>2000</td>\n",
              "      <td>4.0</td>\n",
              "      <td>10</td>\n",
              "    </tr>\n",
              "    <tr>\n",
              "      <th>1</th>\n",
              "      <td>3</td>\n",
              "      <td>alina</td>\n",
              "      <td>petrova</td>\n",
              "      <td>f</td>\n",
              "      <td>1500</td>\n",
              "      <td>2.0</td>\n",
              "      <td>10</td>\n",
              "      <td>2</td>\n",
              "      <td>ronald</td>\n",
              "      <td>dehaan</td>\n",
              "      <td>m</td>\n",
              "      <td>2000</td>\n",
              "      <td>4.0</td>\n",
              "      <td>10</td>\n",
              "    </tr>\n",
              "  </tbody>\n",
              "</table>\n",
              "</div>"
            ],
            "text/plain": [
              "   ssn_x fname_x     lname_x sex_x  ...  sex_y  salary_y  super_ssn_y  dno_y\n",
              "0      1   peter  skachovsky     m  ...      m      2000          4.0     10\n",
              "1      3   alina     petrova     f  ...      m      2000          4.0     10\n",
              "\n",
              "[2 rows x 14 columns]"
            ]
          },
          "metadata": {},
          "execution_count": 29
        }
      ]
    },
    {
      "cell_type": "code",
      "metadata": {
        "id": "3E1K7SfjKnsn"
      },
      "source": [
        "output = ..."
      ],
      "execution_count": null,
      "outputs": []
    },
    {
      "cell_type": "markdown",
      "metadata": {
        "id": "U5nn_8aMKnsn"
      },
      "source": [
        "## Question  4\n",
        "Question: For each project, list the project name and the total hours per week (by all employees) spent on that project\n",
        "\n",
        "SQL code to guide:\n",
        "``` SQL\n",
        "SELECT Pno, Pname, SUM(Hours)\n",
        "FROM PROJECT JOIN WORKS_ON ON Pno=Pnumber \n",
        "GROUP BY Pno, Pname\n",
        "```"
      ]
    },
    {
      "cell_type": "code",
      "metadata": {
        "colab": {
          "base_uri": "https://localhost:8080/",
          "height": 265
        },
        "id": "mtsjFK8zKnsn",
        "outputId": "63701354-80ef-458c-e192-ec0093113212"
      },
      "source": [
        "prj_works_on = works_on.groupby('pno')\n",
        "prj_works_on.describe()\n"
      ],
      "execution_count": null,
      "outputs": [
        {
          "output_type": "execute_result",
          "data": {
            "text/html": [
              "<div>\n",
              "<style scoped>\n",
              "    .dataframe tbody tr th:only-of-type {\n",
              "        vertical-align: middle;\n",
              "    }\n",
              "\n",
              "    .dataframe tbody tr th {\n",
              "        vertical-align: top;\n",
              "    }\n",
              "\n",
              "    .dataframe thead tr th {\n",
              "        text-align: left;\n",
              "    }\n",
              "\n",
              "    .dataframe thead tr:last-of-type th {\n",
              "        text-align: right;\n",
              "    }\n",
              "</style>\n",
              "<table border=\"1\" class=\"dataframe\">\n",
              "  <thead>\n",
              "    <tr>\n",
              "      <th></th>\n",
              "      <th colspan=\"8\" halign=\"left\">essn</th>\n",
              "      <th colspan=\"8\" halign=\"left\">hours</th>\n",
              "    </tr>\n",
              "    <tr>\n",
              "      <th></th>\n",
              "      <th>count</th>\n",
              "      <th>mean</th>\n",
              "      <th>std</th>\n",
              "      <th>min</th>\n",
              "      <th>25%</th>\n",
              "      <th>50%</th>\n",
              "      <th>75%</th>\n",
              "      <th>max</th>\n",
              "      <th>count</th>\n",
              "      <th>mean</th>\n",
              "      <th>std</th>\n",
              "      <th>min</th>\n",
              "      <th>25%</th>\n",
              "      <th>50%</th>\n",
              "      <th>75%</th>\n",
              "      <th>max</th>\n",
              "    </tr>\n",
              "    <tr>\n",
              "      <th>pno</th>\n",
              "      <th></th>\n",
              "      <th></th>\n",
              "      <th></th>\n",
              "      <th></th>\n",
              "      <th></th>\n",
              "      <th></th>\n",
              "      <th></th>\n",
              "      <th></th>\n",
              "      <th></th>\n",
              "      <th></th>\n",
              "      <th></th>\n",
              "      <th></th>\n",
              "      <th></th>\n",
              "      <th></th>\n",
              "      <th></th>\n",
              "      <th></th>\n",
              "    </tr>\n",
              "  </thead>\n",
              "  <tbody>\n",
              "    <tr>\n",
              "      <th>1</th>\n",
              "      <td>2.0</td>\n",
              "      <td>1.5</td>\n",
              "      <td>0.707107</td>\n",
              "      <td>1.0</td>\n",
              "      <td>1.25</td>\n",
              "      <td>1.5</td>\n",
              "      <td>1.75</td>\n",
              "      <td>2.0</td>\n",
              "      <td>2.0</td>\n",
              "      <td>10.0</td>\n",
              "      <td>0.000000</td>\n",
              "      <td>10.0</td>\n",
              "      <td>10.00</td>\n",
              "      <td>10.0</td>\n",
              "      <td>10.00</td>\n",
              "      <td>10.0</td>\n",
              "    </tr>\n",
              "    <tr>\n",
              "      <th>2</th>\n",
              "      <td>2.0</td>\n",
              "      <td>2.0</td>\n",
              "      <td>1.414214</td>\n",
              "      <td>1.0</td>\n",
              "      <td>1.50</td>\n",
              "      <td>2.0</td>\n",
              "      <td>2.50</td>\n",
              "      <td>3.0</td>\n",
              "      <td>2.0</td>\n",
              "      <td>15.0</td>\n",
              "      <td>7.071068</td>\n",
              "      <td>10.0</td>\n",
              "      <td>12.50</td>\n",
              "      <td>15.0</td>\n",
              "      <td>17.50</td>\n",
              "      <td>20.0</td>\n",
              "    </tr>\n",
              "    <tr>\n",
              "      <th>3</th>\n",
              "      <td>1.0</td>\n",
              "      <td>1.0</td>\n",
              "      <td>NaN</td>\n",
              "      <td>1.0</td>\n",
              "      <td>1.00</td>\n",
              "      <td>1.0</td>\n",
              "      <td>1.00</td>\n",
              "      <td>1.0</td>\n",
              "      <td>1.0</td>\n",
              "      <td>5.0</td>\n",
              "      <td>NaN</td>\n",
              "      <td>5.0</td>\n",
              "      <td>5.00</td>\n",
              "      <td>5.0</td>\n",
              "      <td>5.00</td>\n",
              "      <td>5.0</td>\n",
              "    </tr>\n",
              "    <tr>\n",
              "      <th>4</th>\n",
              "      <td>2.0</td>\n",
              "      <td>2.5</td>\n",
              "      <td>2.121320</td>\n",
              "      <td>1.0</td>\n",
              "      <td>1.75</td>\n",
              "      <td>2.5</td>\n",
              "      <td>3.25</td>\n",
              "      <td>4.0</td>\n",
              "      <td>2.0</td>\n",
              "      <td>25.0</td>\n",
              "      <td>21.213203</td>\n",
              "      <td>10.0</td>\n",
              "      <td>17.50</td>\n",
              "      <td>25.0</td>\n",
              "      <td>32.50</td>\n",
              "      <td>40.0</td>\n",
              "    </tr>\n",
              "    <tr>\n",
              "      <th>5</th>\n",
              "      <td>2.0</td>\n",
              "      <td>1.5</td>\n",
              "      <td>0.707107</td>\n",
              "      <td>1.0</td>\n",
              "      <td>1.25</td>\n",
              "      <td>1.5</td>\n",
              "      <td>1.75</td>\n",
              "      <td>2.0</td>\n",
              "      <td>2.0</td>\n",
              "      <td>6.5</td>\n",
              "      <td>4.949747</td>\n",
              "      <td>3.0</td>\n",
              "      <td>4.75</td>\n",
              "      <td>6.5</td>\n",
              "      <td>8.25</td>\n",
              "      <td>10.0</td>\n",
              "    </tr>\n",
              "  </tbody>\n",
              "</table>\n",
              "</div>"
            ],
            "text/plain": [
              "     essn                            ... hours                          \n",
              "    count mean       std  min   25%  ...   min    25%   50%    75%   max\n",
              "pno                                  ...                                \n",
              "1     2.0  1.5  0.707107  1.0  1.25  ...  10.0  10.00  10.0  10.00  10.0\n",
              "2     2.0  2.0  1.414214  1.0  1.50  ...  10.0  12.50  15.0  17.50  20.0\n",
              "3     1.0  1.0       NaN  1.0  1.00  ...   5.0   5.00   5.0   5.00   5.0\n",
              "4     2.0  2.5  2.121320  1.0  1.75  ...  10.0  17.50  25.0  32.50  40.0\n",
              "5     2.0  1.5  0.707107  1.0  1.25  ...   3.0   4.75   6.5   8.25  10.0\n",
              "\n",
              "[5 rows x 16 columns]"
            ]
          },
          "metadata": {},
          "execution_count": 34
        }
      ]
    },
    {
      "cell_type": "code",
      "metadata": {
        "colab": {
          "base_uri": "https://localhost:8080/",
          "height": 235
        },
        "id": "nzvfRXLJToYF",
        "outputId": "814d212d-b0a7-4f3b-a3fb-522d2938ce20"
      },
      "source": [
        "prj = pd.merge(left=project[['pname', 'pnumber']], right=works_on, left_on='pnumber', right_on='pno').groupby('pno')[['hours']].sum()\n",
        "prj.head()"
      ],
      "execution_count": null,
      "outputs": [
        {
          "output_type": "execute_result",
          "data": {
            "text/html": [
              "<div>\n",
              "<style scoped>\n",
              "    .dataframe tbody tr th:only-of-type {\n",
              "        vertical-align: middle;\n",
              "    }\n",
              "\n",
              "    .dataframe tbody tr th {\n",
              "        vertical-align: top;\n",
              "    }\n",
              "\n",
              "    .dataframe thead th {\n",
              "        text-align: right;\n",
              "    }\n",
              "</style>\n",
              "<table border=\"1\" class=\"dataframe\">\n",
              "  <thead>\n",
              "    <tr style=\"text-align: right;\">\n",
              "      <th></th>\n",
              "      <th>hours</th>\n",
              "    </tr>\n",
              "    <tr>\n",
              "      <th>pno</th>\n",
              "      <th></th>\n",
              "    </tr>\n",
              "  </thead>\n",
              "  <tbody>\n",
              "    <tr>\n",
              "      <th>1</th>\n",
              "      <td>20</td>\n",
              "    </tr>\n",
              "    <tr>\n",
              "      <th>2</th>\n",
              "      <td>30</td>\n",
              "    </tr>\n",
              "    <tr>\n",
              "      <th>3</th>\n",
              "      <td>5</td>\n",
              "    </tr>\n",
              "    <tr>\n",
              "      <th>4</th>\n",
              "      <td>50</td>\n",
              "    </tr>\n",
              "    <tr>\n",
              "      <th>5</th>\n",
              "      <td>13</td>\n",
              "    </tr>\n",
              "  </tbody>\n",
              "</table>\n",
              "</div>"
            ],
            "text/plain": [
              "     hours\n",
              "pno       \n",
              "1       20\n",
              "2       30\n",
              "3        5\n",
              "4       50\n",
              "5       13"
            ]
          },
          "metadata": {},
          "execution_count": 46
        }
      ]
    },
    {
      "cell_type": "markdown",
      "metadata": {
        "id": "VcND4Dg9Knsn"
      },
      "source": [
        "## Question 5\n",
        "Question: Retrieve the names of all employees who work on every project\n",
        "\n",
        "SQL code to guide:\n",
        "``` SQL\n",
        "SELECT Fname, Lname FROM EMPLOYEE\n",
        "WHERE NOT EXISTS\n",
        "    (SELECT * FROM PROJECT\n",
        "     WHERE NOT EXISTS (SELECT *\n",
        "                       FROM WORKS_ON\n",
        "                       WHERE Pno = Pnumber\n",
        "                       AND Essn = Ssn\n",
        "                      )\n",
        "    )\n",
        "```"
      ]
    },
    {
      "cell_type": "code",
      "metadata": {
        "colab": {
          "base_uri": "https://localhost:8080/",
          "height": 204
        },
        "id": "rU17_1oMKnso",
        "outputId": "a06a00e9-74f0-4025-ede4-6272138c5eaa"
      },
      "source": [
        "pcnt = pd.unique(project['pnumber']).size\n",
        "all_p = pd.merge(employee[['fname', 'lname', 'ssn']], works_on, left_on='ssn', right_on='essn')\n",
        "all_p = pd.merge(left=all_p, right=all_p.groupby('ssn')['pno'].count(), left_on='ssn', right_on='ssn')\n",
        "all_p = all_p.loc[all_p[\"pno_y\"] == pcnt]\n",
        "all_p"
      ],
      "execution_count": null,
      "outputs": [
        {
          "output_type": "execute_result",
          "data": {
            "text/html": [
              "<div>\n",
              "<style scoped>\n",
              "    .dataframe tbody tr th:only-of-type {\n",
              "        vertical-align: middle;\n",
              "    }\n",
              "\n",
              "    .dataframe tbody tr th {\n",
              "        vertical-align: top;\n",
              "    }\n",
              "\n",
              "    .dataframe thead th {\n",
              "        text-align: right;\n",
              "    }\n",
              "</style>\n",
              "<table border=\"1\" class=\"dataframe\">\n",
              "  <thead>\n",
              "    <tr style=\"text-align: right;\">\n",
              "      <th></th>\n",
              "      <th>fname</th>\n",
              "      <th>lname</th>\n",
              "      <th>ssn</th>\n",
              "      <th>essn</th>\n",
              "      <th>pno_x</th>\n",
              "      <th>hours</th>\n",
              "      <th>pno_y</th>\n",
              "    </tr>\n",
              "  </thead>\n",
              "  <tbody>\n",
              "    <tr>\n",
              "      <th>0</th>\n",
              "      <td>peter</td>\n",
              "      <td>skachovsky</td>\n",
              "      <td>1</td>\n",
              "      <td>1</td>\n",
              "      <td>1</td>\n",
              "      <td>10</td>\n",
              "      <td>5</td>\n",
              "    </tr>\n",
              "    <tr>\n",
              "      <th>1</th>\n",
              "      <td>peter</td>\n",
              "      <td>skachovsky</td>\n",
              "      <td>1</td>\n",
              "      <td>1</td>\n",
              "      <td>2</td>\n",
              "      <td>20</td>\n",
              "      <td>5</td>\n",
              "    </tr>\n",
              "    <tr>\n",
              "      <th>2</th>\n",
              "      <td>peter</td>\n",
              "      <td>skachovsky</td>\n",
              "      <td>1</td>\n",
              "      <td>1</td>\n",
              "      <td>3</td>\n",
              "      <td>5</td>\n",
              "      <td>5</td>\n",
              "    </tr>\n",
              "    <tr>\n",
              "      <th>3</th>\n",
              "      <td>peter</td>\n",
              "      <td>skachovsky</td>\n",
              "      <td>1</td>\n",
              "      <td>1</td>\n",
              "      <td>4</td>\n",
              "      <td>10</td>\n",
              "      <td>5</td>\n",
              "    </tr>\n",
              "    <tr>\n",
              "      <th>4</th>\n",
              "      <td>peter</td>\n",
              "      <td>skachovsky</td>\n",
              "      <td>1</td>\n",
              "      <td>1</td>\n",
              "      <td>5</td>\n",
              "      <td>3</td>\n",
              "      <td>5</td>\n",
              "    </tr>\n",
              "  </tbody>\n",
              "</table>\n",
              "</div>"
            ],
            "text/plain": [
              "   fname       lname  ssn  essn  pno_x  hours  pno_y\n",
              "0  peter  skachovsky    1     1      1     10      5\n",
              "1  peter  skachovsky    1     1      2     20      5\n",
              "2  peter  skachovsky    1     1      3      5      5\n",
              "3  peter  skachovsky    1     1      4     10      5\n",
              "4  peter  skachovsky    1     1      5      3      5"
            ]
          },
          "metadata": {},
          "execution_count": 119
        }
      ]
    },
    {
      "cell_type": "markdown",
      "metadata": {
        "id": "4VdMC53WKnso"
      },
      "source": [
        "## Question 6\n",
        "Question: Retrieve the average salary of all female employees\n",
        "\n",
        "SQL code to guide:\n",
        "``` SQL\n",
        "SELECT AVG(Salary) \n",
        "FROM EMPLOYEE \n",
        "WHERE Sex=’F’\n",
        "```"
      ]
    },
    {
      "cell_type": "code",
      "metadata": {
        "colab": {
          "base_uri": "https://localhost:8080/"
        },
        "id": "Pa9NzyRNKnso",
        "outputId": "eb95224e-3ad6-4c65-f1d8-39bba8dccf96"
      },
      "source": [
        "employee.query(\"sex == 'm'\")['salary'].mean()"
      ],
      "execution_count": null,
      "outputs": [
        {
          "output_type": "execute_result",
          "data": {
            "text/plain": [
              "2333.3333333333335"
            ]
          },
          "metadata": {},
          "execution_count": 123
        }
      ]
    },
    {
      "cell_type": "markdown",
      "metadata": {
        "id": "7St41PUbKnso"
      },
      "source": [
        "## Question 7\n",
        "\n",
        "Question: List the names of all department managers who have no dependents\n",
        "\n",
        "SQL code to guide:\n",
        "``` SQL\n",
        "SELECT Fname, Lname\n",
        "FROM EMPLOYEE, DEPARTMENT \n",
        "WHERE Ssn=Mgr_ssn\n",
        "AND NOT EXISTS (SELECT *\n",
        "                FROM DEPENDENT \n",
        "                WHERE Essn = Ssn)\n",
        "```"
      ]
    },
    {
      "cell_type": "code",
      "metadata": {
        "colab": {
          "base_uri": "https://localhost:8080/",
          "height": 141
        },
        "id": "E1Di5q6zKnso",
        "outputId": "4cf6da88-b7f7-49ed-bf3b-e1c157b61afb"
      },
      "source": [
        "department = pd.read_csv(\"queries_data/department.csv\")\n",
        "department"
      ],
      "execution_count": null,
      "outputs": [
        {
          "output_type": "execute_result",
          "data": {
            "text/html": [
              "<div>\n",
              "<style scoped>\n",
              "    .dataframe tbody tr th:only-of-type {\n",
              "        vertical-align: middle;\n",
              "    }\n",
              "\n",
              "    .dataframe tbody tr th {\n",
              "        vertical-align: top;\n",
              "    }\n",
              "\n",
              "    .dataframe thead th {\n",
              "        text-align: right;\n",
              "    }\n",
              "</style>\n",
              "<table border=\"1\" class=\"dataframe\">\n",
              "  <thead>\n",
              "    <tr style=\"text-align: right;\">\n",
              "      <th></th>\n",
              "      <th>dname</th>\n",
              "      <th>dnumber</th>\n",
              "      <th>mgr_ssn</th>\n",
              "    </tr>\n",
              "  </thead>\n",
              "  <tbody>\n",
              "    <tr>\n",
              "      <th>0</th>\n",
              "      <td>cs</td>\n",
              "      <td>10</td>\n",
              "      <td>2</td>\n",
              "    </tr>\n",
              "    <tr>\n",
              "      <th>1</th>\n",
              "      <td>math</td>\n",
              "      <td>20</td>\n",
              "      <td>4</td>\n",
              "    </tr>\n",
              "    <tr>\n",
              "      <th>2</th>\n",
              "      <td>bi</td>\n",
              "      <td>30</td>\n",
              "      <td>5</td>\n",
              "    </tr>\n",
              "  </tbody>\n",
              "</table>\n",
              "</div>"
            ],
            "text/plain": [
              "  dname  dnumber  mgr_ssn\n",
              "0    cs       10        2\n",
              "1  math       20        4\n",
              "2    bi       30        5"
            ]
          },
          "metadata": {},
          "execution_count": 124
        }
      ]
    },
    {
      "cell_type": "code",
      "metadata": {
        "colab": {
          "base_uri": "https://localhost:8080/"
        },
        "id": "xWfVNKK7lD2z",
        "outputId": "7bdd77a4-8bdb-4878-c6a1-a1ef08a355e7"
      },
      "source": [
        "pd.merge(left=department.loc[~department['mgr_ssn'].isin(pd.unique(dependent['essn']))], right=employee, left_on='mgr_ssn', right_on='ssn')[['fname','lname']]"
      ],
      "execution_count": null,
      "outputs": [
        {
          "output_type": "execute_result",
          "data": {
            "text/html": [
              "<div>\n",
              "<style scoped>\n",
              "    .dataframe tbody tr th:only-of-type {\n",
              "        vertical-align: middle;\n",
              "    }\n",
              "\n",
              "    .dataframe tbody tr th {\n",
              "        vertical-align: top;\n",
              "    }\n",
              "\n",
              "    .dataframe thead th {\n",
              "        text-align: right;\n",
              "    }\n",
              "</style>\n",
              "<table border=\"1\" class=\"dataframe\">\n",
              "  <thead>\n",
              "    <tr style=\"text-align: right;\">\n",
              "      <th></th>\n",
              "      <th>fname</th>\n",
              "      <th>lname</th>\n",
              "    </tr>\n",
              "  </thead>\n",
              "  <tbody>\n",
              "    <tr>\n",
              "      <th>0</th>\n",
              "      <td>sergey</td>\n",
              "      <td>paramonov</td>\n",
              "    </tr>\n",
              "    <tr>\n",
              "      <th>1</th>\n",
              "      <td>andra</td>\n",
              "      <td>busoniu</td>\n",
              "    </tr>\n",
              "  </tbody>\n",
              "</table>\n",
              "</div>"
            ],
            "text/plain": [
              "    fname      lname\n",
              "0  sergey  paramonov\n",
              "1   andra    busoniu"
            ]
          },
          "metadata": {},
          "execution_count": 135
        }
      ]
    }
  ]
}